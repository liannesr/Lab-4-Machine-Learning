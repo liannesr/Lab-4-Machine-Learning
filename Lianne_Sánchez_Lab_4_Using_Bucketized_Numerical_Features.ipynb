{
  "nbformat": 4,
  "nbformat_minor": 0,
  "metadata": {
    "colab": {
      "name": "Lianne Sánchez - Lab 4: Using Bucketized Numerical Features",
      "version": "0.3.2",
      "provenance": [],
      "collapsed_sections": [
        "JndnmDMp66FL"
      ],
      "include_colab_link": true
    },
    "kernelspec": {
      "name": "python3",
      "display_name": "Python 3"
    }
  },
  "cells": [
    {
      "cell_type": "markdown",
      "metadata": {
        "id": "view-in-github",
        "colab_type": "text"
      },
      "source": [
        "[View in Colaboratory](https://colab.research.google.com/github/liannesr/Lab-4-Machine-Learning/blob/master/Lianne_S%C3%A1nchez_Lab_4_Using_Bucketized_Numerical_Features.ipynb)"
      ]
    },
    {
      "metadata": {
        "id": "JndnmDMp66FL",
        "colab_type": "text"
      },
      "cell_type": "markdown",
      "source": [
        "#### Copyright 2018 Google LLC."
      ]
    },
    {
      "metadata": {
        "id": "hMqWDc_m6rUC",
        "colab_type": "code",
        "colab": {},
        "cellView": "both"
      },
      "cell_type": "code",
      "source": [
        "# Licensed under the Apache License, Version 2.0 (the \"License\");\n",
        "# you may not use this file except in compliance with the License.\n",
        "# You may obtain a copy of the License at\n",
        "#\n",
        "# https://www.apache.org/licenses/LICENSE-2.0\n",
        "#\n",
        "# Unless required by applicable law or agreed to in writing, software\n",
        "# distributed under the License is distributed on an \"AS IS\" BASIS,\n",
        "# WITHOUT WARRANTIES OR CONDITIONS OF ANY KIND, either express or implied.\n",
        "# See the License for the specific language governing permissions and\n",
        "# limitations under the License."
      ],
      "execution_count": 0,
      "outputs": []
    },
    {
      "metadata": {
        "id": "combined_import_panda_text",
        "colab_type": "text"
      },
      "cell_type": "markdown",
      "source": [
        "### Imports and Pandas Options\n",
        "We import the libraries we are using and set some panda options."
      ]
    },
    {
      "metadata": {
        "id": "combined_import_panda_code",
        "colab_type": "code",
        "colab": {}
      },
      "cell_type": "code",
      "source": [
        "import fnmatch\n",
        "import math\n",
        "\n",
        "from IPython import display\n",
        "from matplotlib import cm\n",
        "from matplotlib import gridspec\n",
        "from matplotlib import pyplot as plt\n",
        "import numpy as np\n",
        "import pandas as pd\n",
        "from sklearn import metrics\n",
        "import tensorflow as tf\n",
        "from tensorflow.python.data import Dataset\n",
        "\n",
        "# This line increasing the amount of logging when there is an error.  You can\n",
        "# remove it if you want less logging\n",
        "tf.logging.set_verbosity(tf.logging.ERROR)\n",
        "\n",
        "# Set the output display to have one digit for decimal places, for display\n",
        "# readability only and limit it to printing 15 rows.\n",
        "pd.options.display.float_format = '{:.2f}'.format\n",
        "pd.options.display.max_rows = 15"
      ],
      "execution_count": 0,
      "outputs": []
    },
    {
      "metadata": {
        "id": "data_set_text_short_description",
        "colab_type": "text"
      },
      "cell_type": "markdown",
      "source": [
        "### Data Set\n",
        "As in the last lab we use the [Automobile Data Set](https://archive.ics.uci.edu/ml/datasets/automobile)  from 1985 Ward's Automotive Yearbook that is part of the  [UCI Machine Learning Repository](https://archive.ics.uci.edu/ml/datasets) "
      ]
    },
    {
      "metadata": {
        "id": "load_auto_data_set_text",
        "colab_type": "text"
      },
      "cell_type": "markdown",
      "source": [
        "### Load and randomizing the data\n",
        "Load the data using the column names from [Automobile Data Set](https://archive.ics.uci.edu/ml/datasets/automobile). When using SGD (stochastic graident descent) for training it is important that **each batch is a random sample of the data** so that the gradient computed is representative.  While there appears to be no order to this data set, it is always good practice to shuffle the data to be in a random order.\n"
      ]
    },
    {
      "metadata": {
        "id": "load_auto_data_set_code",
        "colab_type": "code",
        "colab": {}
      },
      "cell_type": "code",
      "source": [
        "# Provide the names for the columns since the CSV file with the data does\n",
        "# not have a header row.\n",
        "cols = ['symboling', 'losses', 'make', 'fuel-type', 'aspiration', 'num-doors',\n",
        "        'body-style', 'drive-wheels', 'engine-location', 'wheel-base',\n",
        "        'length', 'width', 'height', 'weight', 'engine-type', 'num-cylinders',\n",
        "        'engine-size', 'fuel-system', 'bore', 'stroke', 'compression-ratio',\n",
        "        'horsepower', 'peak-rpm', 'city-mpg', 'highway-mpg', 'price']\n",
        "\n",
        "\n",
        "# Load in the data from a CSV file that is comma seperated.\n",
        "car_data = pd.read_csv('https://storage.googleapis.com/ml_universities/cars_dataset/cars_data.csv',\n",
        "                        sep=',', names=cols, header=None, encoding='latin-1')\n",
        "\n",
        "# We'll then randomize the data, just to be sure not to get any pathological\n",
        "# ordering effects that might harm the performance of Stochastic Gradient\n",
        "# Descent.\n",
        "car_data = car_data.reindex(np.random.permutation(car_data.index))"
      ],
      "execution_count": 0,
      "outputs": []
    },
    {
      "metadata": {
        "id": "line_in_scatter_plot_text",
        "colab_type": "text"
      },
      "cell_type": "markdown",
      "source": [
        "###Visualizing a Linear Model Using a Scatter Plot\n",
        "\n",
        "When training a linear regression model over a single variable, a really nice thing to be able to do is to show the model (which is just a line) as part of the scatter plot. That really helps you see how well the model fits the data. Just looking at the loss (RMSE here) doesn't really indicate how good the model is. Sometimes you want to show several models on the same scatter plot to compare them so we allow slopes, biases, and model_names to all be lists. They should be of the same size giving the weight (slope), bias, and name (to use in the legend) for the model."
      ]
    },
    {
      "metadata": {
        "id": "scatter_plot_function",
        "colab_type": "code",
        "colab": {}
      },
      "cell_type": "code",
      "source": [
        "def scatter_plot(features, targets, slopes=[], biases=[], model_names=[]):\n",
        "  \"\"\" Creates a scatter plot of input_feature vs target along with the models.\n",
        "  \n",
        "  Args:\n",
        "    features: list of the input features\n",
        "    targets: list of targets\n",
        "    slopes: list of model weight (slope) \n",
        "    bias: list of model bias (same size as slopes)\n",
        "    model_names: list of model_names to use for legend (same size as slopes)\n",
        "  \"\"\"      \n",
        "  # Define some colors to use that go from blue towards red\n",
        "  colors = [cm.coolwarm(x) for x in np.linspace(0, 1, len(slopes))]\n",
        "  \n",
        "  # Generate the Scatter plot\n",
        "  plt.ylabel(\"target\")\n",
        "  plt.xlabel(\"input feature\")\n",
        "  plt.scatter(features, targets, color='black', label=\"\")\n",
        "  # Add the lines corresponding to the provided models\n",
        "  for i in range (0, len(slopes)):\n",
        "    y_0 = slopes[i] * features.min() + biases[i]\n",
        "    y_1 = slopes[i] * features.max() + biases[i]\n",
        "    plt.plot([features.min(), features.max()], [y_0, y_1],\n",
        "             label=model_names[i], color=colors[i])\n",
        "  if (len(model_names) > 0):\n",
        "    plt.legend(bbox_to_anchor=(1.05, 1), loc=2, borderaxespad=0.)"
      ],
      "execution_count": 0,
      "outputs": []
    },
    {
      "metadata": {
        "id": "convert_missing_to_mean_text",
        "colab_type": "text"
      },
      "cell_type": "markdown",
      "source": [
        "### Converting Missing Numerical Values to the Column Mean\n",
        "\n",
        "As you hopefully found in the last exercise, a good option for replacing missing entries (NaN) is to replace them by the column mean.  We do that here."
      ]
    },
    {
      "metadata": {
        "id": "convert_missing_to_mean_code",
        "colab_type": "code",
        "colab": {}
      },
      "cell_type": "code",
      "source": [
        "car_data['price'] = pd.to_numeric(car_data['price'], errors='coerce')\n",
        "car_data['horsepower'] = pd.to_numeric(car_data['horsepower'], errors='coerce')\n",
        "car_data['peak-rpm'] = pd.to_numeric(car_data['peak-rpm'], errors='coerce')\n",
        "car_data['city-mpg'] = pd.to_numeric(car_data['city-mpg'], errors='coerce')\n",
        "car_data['highway-mpg'] = pd.to_numeric(car_data['highway-mpg'], errors='coerce')\n",
        "\n",
        "# Replace nan by the mean storing the solution in the same table (`inplace')\n",
        "car_data.fillna(car_data.mean(), inplace=True)"
      ],
      "execution_count": 0,
      "outputs": []
    },
    {
      "metadata": {
        "id": "build_first_tf_model_text",
        "colab_type": "text"
      },
      "cell_type": "markdown",
      "source": [
        "### Build Your First Tensor Flow Model\n",
        "\n",
        "We now build a model to predict `price`, which will be our label (sometimes also called a target) using `horsepower` as our input feature. To train our model, we'll use the [LinearRegressor](https://www.tensorflow.org/api_docs/python/tf/estimator/LinearRegressor) interface provided by the TensorFlow [Estimator](https://www.tensorflow.org/get_started/estimator) API. This API takes care of a lot of the low-level model plumbing, and exposes convenient methods for performing model training, evaluation, and inference."
      ]
    },
    {
      "metadata": {
        "id": "prepare_features_text",
        "colab_type": "text"
      },
      "cell_type": "markdown",
      "source": [
        "###Prepare Features\n",
        "As our learning models get more sophisticated we will want to do some computation on the features and even generate new features from the existing features. We will see examples of this in later labs.  For now this method will just make a copy of a portion of the dataframe."
      ]
    },
    {
      "metadata": {
        "id": "prepare_features_code",
        "colab_type": "code",
        "colab": {}
      },
      "cell_type": "code",
      "source": [
        "def prepare_features(dataframe):\n",
        "  \"\"\"Prepares the features for provided dataset.\n",
        "\n",
        "  Args:\n",
        "    dataframe: A Pandas DataFrame expected to contain data from the\n",
        "      desired data set.\n",
        "  Returns:\n",
        "    A new dataFrame that contains the features to be used for the model.\n",
        "  \"\"\"\n",
        "  processed_features = dataframe.copy()\n",
        "  return processed_features"
      ],
      "execution_count": 0,
      "outputs": []
    },
    {
      "metadata": {
        "id": "generate_training_examples_text",
        "colab_type": "text"
      },
      "cell_type": "markdown",
      "source": [
        "###Generate the Training Examples\n",
        "We simple call `prepare_features` on the `car_data` dataframe."
      ]
    },
    {
      "metadata": {
        "id": "generate_training_examples_code",
        "colab_type": "code",
        "colab": {}
      },
      "cell_type": "code",
      "source": [
        "training_examples = prepare_features(car_data)"
      ],
      "execution_count": 0,
      "outputs": []
    },
    {
      "metadata": {
        "id": "setting_up_numerical_feature_columns_text",
        "colab_type": "text"
      },
      "cell_type": "markdown",
      "source": [
        "###Setting Up the Feature Columns for TensorFlow\n",
        "\n",
        "In order to import our training data into TensorFlow, we need to specify what type of data each feature contains. There are two main types of data we'll use in this and future exercises:\n",
        "\n",
        "* **Numerical Data**: Data that is a number (integer or float) and that you want to treat as a number. As we will discuss more later sometimes you might want to treat numerical data (e.g., a postal code) as if it were categorical.\n",
        "\n",
        "* **Categorical Data**: Data that is textual such as `make` or 'fuel-type`.\n",
        "\n",
        "In TensorFlow, we indicate a feature's data type using a construct called a **feature column**. Feature columns store only a description of the feature data; they do not contain the feature data itself.\n",
        "\n",
        "For now, we will just use numerical features.  Later you wll learn how to use categorical data."
      ]
    },
    {
      "metadata": {
        "id": "setting_up_numerical_feature_columns_code",
        "colab_type": "code",
        "colab": {}
      },
      "cell_type": "code",
      "source": [
        "NUMERICAL_FEATURES = [\"horsepower\"]\n",
        "\n",
        "def construct_feature_columns():\n",
        "  \"\"\"Construct the TensorFlow Feature Columns.\n",
        "\n",
        "  Returns:\n",
        "    A set of feature columns\n",
        "  \"\"\" \n",
        "  return set([tf.feature_column.numeric_column(feature)\n",
        "              for feature in NUMERICAL_FEATURES])"
      ],
      "execution_count": 0,
      "outputs": []
    },
    {
      "metadata": {
        "id": "input_function_text",
        "colab_type": "text"
      },
      "cell_type": "markdown",
      "source": [
        "### Input Function\n",
        "To import our data into a LinearRegressor, we need to define an input function, which instructs TensorFlow how to preprocess the data, as well as how to batch, shuffle, and repeat it during model training.\n",
        "\n",
        "First, we'll convert our Pandas feature data into a dictionary of NumPy arrays. We can then use the TensorFlow Dataset API to construct a dataset object from our data, and then break our data into batches of batch_size, to be repeated for the specified number of epochs (num_epochs).\n",
        "\n",
        "When the default value of num_epochs=None is passed to repeat(), the input data will be repeated indefinitely.\n",
        "\n",
        "Next, if shuffle is set to True, we'll shuffle the data so that it's passed to the model randomly during training. The buffer_size argument specifies the size of the dataset from which shuffle will randomly sample.\n",
        "\n",
        "Finally, our input function constructs an iterator for the dataset and returns the next batch of data to the LinearRegressor.\n",
        "\n",
        "**NOTE:** We'll continue to use this same input function in later exercises. For more\n",
        "detailed documentation of input functions and the `Dataset` API, see the [TensorFlow Programmer's Guide](https://www.tensorflow.org/programmers_guide/datasets)."
      ]
    },
    {
      "metadata": {
        "id": "input_function_code",
        "colab_type": "code",
        "colab": {}
      },
      "cell_type": "code",
      "source": [
        "def input_fn(features, targets, batch_size=1, shuffle=True, num_epochs=None):\n",
        "    \"\"\"Defines a function to preprocess the data, as well as how to batch,\n",
        "      shuffle, and repeat it during model training..\n",
        "  \n",
        "    Args:\n",
        "      features: pandas DataFrame of features\n",
        "      targets: pandas DataFrame of targets\n",
        "      batch_size: Size of batches to be passed to the model\n",
        "      shuffle: True or False. Whether to shuffle the data.\n",
        "      num_epochs: Number of epochs for which data should be repeated. None = repeat indefinitely\n",
        "    Returns:\n",
        "      Tuple of (features, labels) for next data batch\n",
        "    \"\"\"\n",
        "    \n",
        "    # Convert pandas data into a dict of np arrays.\n",
        "    features = {key:np.array(value) for key,value in dict(features).items()}                                           \n",
        " \n",
        "    # Construct a dataset, and configure batching/repeating.\n",
        "    ds = Dataset.from_tensor_slices((features,targets)) # warning: 2GB limit\n",
        "    ds = ds.batch(batch_size).repeat(num_epochs)\n",
        "    \n",
        "    # Shuffle the data, if specified.\n",
        "    if shuffle:\n",
        "      ds = ds.shuffle(10000)\n",
        "    \n",
        "    # Return the next batch of data.\n",
        "    features, labels = ds.make_one_shot_iterator().get_next()\n",
        "    return features, labels"
      ],
      "execution_count": 0,
      "outputs": []
    },
    {
      "metadata": {
        "id": "train_input_fn_text",
        "colab_type": "text"
      },
      "cell_type": "markdown",
      "source": [
        "### Define Input Functions Using the Training Data\n",
        "\n",
        "We can now use a labda function to create an input function to use when training the model, and one to use when evaluating the model's loss on the training data."
      ]
    },
    {
      "metadata": {
        "id": "train_input_fn_code",
        "colab_type": "code",
        "colab": {}
      },
      "cell_type": "code",
      "source": [
        "NUMERICAL_FEATURES = [\"horsepower\"]\n",
        "CATEGORICAL_FEATURES = []\n",
        "LABEL = \"price\"  \n",
        "\n",
        "# Here we define an input functon that uses the training examples generating\n",
        "# batches of 10 examples\n",
        "training_input_fn = lambda: input_fn(\n",
        "    training_examples[NUMERICAL_FEATURES], training_examples[LABEL], \n",
        "    batch_size=10)\n",
        "\n",
        "# Here we define an input function that will compute the loss over the entire\n",
        "# training set.\n",
        "predict_training_input_fn = lambda: input_fn(\n",
        "    training_examples[NUMERICAL_FEATURES], training_examples[LABEL], \n",
        "    num_epochs=1, shuffle=False)"
      ],
      "execution_count": 0,
      "outputs": []
    },
    {
      "metadata": {
        "id": "configure_linear_regressor_text",
        "colab_type": "text"
      },
      "cell_type": "markdown",
      "source": [
        "###Configure the LinearRegressor\n",
        "\n",
        "Next, we'll configure a linear regression model using LinearRegressor. We'll train this model using the `GradientDescentOptimizer`, which implements Mini-Batch Stochastic Gradient Descent (SGD). The `learning_rate` argument controls the size of the gradient step.\n",
        "\n",
        "**NOTE:** To be safe, we also apply [gradient clipping](https://developers.google.com/machine-learning/glossary/#gradient_clipping) to our optimizer via `clip_gradients_by_norm`. Gradient clipping ensures the magnitude of the gradients do not become too large during training, which can cause gradient descent to fail. "
      ]
    },
    {
      "metadata": {
        "id": "configure_linear_regressor_code",
        "colab_type": "code",
        "colab": {}
      },
      "cell_type": "code",
      "source": [
        "def define_linear_regression_model(learning_rate):\n",
        "  \"\"\" Defines a linear regression model of one feature to predict the target.\n",
        "  \n",
        "  Args:\n",
        "    learning_rate: A `float`, the learning rate\n",
        "    batch_size: A non-zero `int`, the batch size.\n",
        "    \n",
        "  Returns:\n",
        "    A linear regressor created with the given parameters\n",
        "  \"\"\"\n",
        "  \n",
        "  optimizer=tf.train.GradientDescentOptimizer(learning_rate=learning_rate)\n",
        "  optimizer = tf.contrib.estimator.clip_gradients_by_norm(optimizer, 5.0)\n",
        "  linear_regressor = tf.estimator.LinearRegressor(\n",
        "    feature_columns=construct_feature_columns(),\n",
        "    optimizer=optimizer\n",
        "  )  \n",
        "  return linear_regressor"
      ],
      "execution_count": 0,
      "outputs": []
    },
    {
      "metadata": {
        "id": "compute_loss_text",
        "colab_type": "text"
      },
      "cell_type": "markdown",
      "source": [
        "## Computing the Loss\n",
        "For now we are using root mean squared error (RMSE) for our loss since that is the appropriate loss to use for linear regression.  However, to keep the procedure to train the model very generic, we will use a method compute loss that can be tailored to other types of problems. For this lab, our implementation will be to return the RMSE.\n"
      ]
    },
    {
      "metadata": {
        "id": "compute_loss_code",
        "colab_type": "code",
        "colab": {}
      },
      "cell_type": "code",
      "source": [
        "def compute_loss(predictions, targets):\n",
        "  \"\"\" Computes the loss (RMSE) for linear regression.\n",
        "  \n",
        "  Args:\n",
        "    predictions: a list of values predicted by the model being visualized\n",
        "    targets: a list of the target values being predicted that must be the\n",
        "             same size as predictions.\n",
        "    \n",
        "  Returns:\n",
        "    The RMSE for the provided predictions and targets\n",
        "  \"\"\"      \n",
        "  return math.sqrt(metrics.mean_squared_error(predictions, targets))"
      ],
      "execution_count": 0,
      "outputs": []
    },
    {
      "metadata": {
        "id": "learning_curve_text",
        "colab_type": "text"
      },
      "cell_type": "markdown",
      "source": [
        "##Learning Curve\n",
        "\n",
        "Another important tool is a graph often called a **learning curve** that shows the loss being minimized on the y-axis and the training steps (time) on the x-axis.  Looking at the learning curve will help you understand if you have set the `learning_rate` too high or too low, how many `steps` you need to train and other things that we'll explore later.  \n",
        "\n",
        "Next we define a method to plot the learning curve given a list of training losses that will be recorded at regular intervals during training."
      ]
    },
    {
      "metadata": {
        "id": "learning_curve_code",
        "colab_type": "code",
        "colab": {}
      },
      "cell_type": "code",
      "source": [
        "def plot_learning_curve(training_losses):\n",
        "  \"\"\" Plot the learning curve\n",
        "  \n",
        "  Args:\n",
        "    training_loses: a list of losses to plot\n",
        "  \"\"\"        \n",
        "  plt.ylabel('Loss')\n",
        "  plt.xlabel('Training Steps')\n",
        "  plt.plot(training_losses)"
      ],
      "execution_count": 0,
      "outputs": []
    },
    {
      "metadata": {
        "id": "calibration_plot_text",
        "colab_type": "text"
      },
      "cell_type": "markdown",
      "source": [
        "###Visualizing Our Model Via a Calibration Plot\n",
        "\n",
        "When we just use a single input feature, we can visualize the data and the learned model very well with **scater plot**.  In order to help understand higher-dimensional models, a **calibration plot** is very useful. A calibration plot is similar to a scatter plot of the data except this can be used for any linear model since it just plots the target with respec to the predictions. Observe that a model with an RMSE of 0 would have all points on the line target = prediction.  For points that are under the line, we are overpredicting and points over the line we are underpredicting.  This method shows the line target = prediction to help visualize how well the model is doing.\n",
        "\n",
        "Observe that unlike in the scatter plot where the points are fixed and the model (as viewed as a line changes), in the callibration plot the x-coordinate of the points change as the model is trained."
      ]
    },
    {
      "metadata": {
        "id": "calibration_plot_code",
        "colab_type": "code",
        "colab": {}
      },
      "cell_type": "code",
      "source": [
        "def calibration_plot(predictions, targets):\n",
        "  \"\"\" Creates a calibration plot.\n",
        "  \n",
        "  Args:\n",
        "    predictions: a list of values predicted by the model being visualized\n",
        "    targets: a list of the target values being predicted that must be the\n",
        "             same size as predictions.\n",
        "  \"\"\"  \n",
        "  calibration_data = pd.DataFrame()\n",
        "  calibration_data[\"predictions\"] = pd.Series(predictions)\n",
        "  calibration_data[\"targets\"] = pd.Series(targets)\n",
        "  calibration_data.describe()\n",
        "  min_val = calibration_data[\"predictions\"].min()\n",
        "  max_val = calibration_data[\"predictions\"].max()\n",
        "  plt.ylabel(\"target\")\n",
        "  plt.xlabel(\"prediction\")\n",
        "  plt.scatter(predictions, targets, color='black')\n",
        "  plt.plot([min_val, max_val], [min_val, max_val])"
      ],
      "execution_count": 0,
      "outputs": []
    },
    {
      "metadata": {
        "id": "train_model_function_text",
        "colab_type": "text"
      },
      "cell_type": "markdown",
      "source": [
        "### Function to train a model\n",
        "\n",
        "We provide a method that trains a linear model using any set of features that breaks the learning up into 10 periods, and shows the learning curve and calibration plot after training the model."
      ]
    },
    {
      "metadata": {
        "id": "train_model_function_code",
        "colab_type": "code",
        "colab": {}
      },
      "cell_type": "code",
      "source": [
        "# Function to train any linear model using a calibration plot to help visualize\n",
        "# the final model\n",
        "\n",
        "def train_model(linear_regressor, features, labels, steps, batch_size):\n",
        "  \"\"\"Trains a linear regression model.\n",
        "  \n",
        "  Args:\n",
        "    linear_regressor: The regressor to train\n",
        "    features: The input features to use\n",
        "    label: the labels\n",
        "    steps: A non-zero `int`, the total number of training steps.\n",
        "    batch_size: A non-zero `int`, the batch size.\n",
        "    \n",
        "  Returns:\n",
        "    The trained regressor\n",
        "  \"\"\"\n",
        "  # In order to see how the model evolves as we train it, we will divide the\n",
        "  # steps into periods and show the model after each period.\n",
        "  periods = 10\n",
        "  steps_per_period = steps / periods\n",
        "  \n",
        "  # Set up the training_input_fn and predict_training_input_fn\n",
        "  training_input_fn = lambda: input_fn(features, labels, batch_size=batch_size)\n",
        "  predict_training_input_fn = lambda: input_fn(features, labels, num_epochs=1,\n",
        "                                               shuffle=False)\n",
        "  \n",
        "  # Train the model, but do so inside a loop so that we can periodically assess\n",
        "  # loss metrics.  We store the training losses to generate the training curve\n",
        "  print(\"Training model...\")\n",
        "  training_losses = []\n",
        " \n",
        "  for period in range (0, periods):\n",
        "    # Call fit to train the regressor for steps_per_period steps\n",
        "    _ = linear_regressor.train(input_fn=training_input_fn, steps=steps_per_period)\n",
        "    \n",
        "    # Use the predict method to compute the predictions from the current model\n",
        "    predictions = linear_regressor.predict(input_fn=predict_training_input_fn)\n",
        "    predictions = np.array([item['predictions'][0] for item in predictions])\n",
        "   \n",
        "    # Compute the loss between the predictions and the correct labels, append\n",
        "    # the loss to the list of losses used to generate the learning curve after\n",
        "    # training is complete and print the current loss\n",
        "    loss = compute_loss(predictions, labels)\n",
        "    training_losses.append(loss) \n",
        "    print(\"  Loss after period %02d : %0.3f\" % (period, loss))\n",
        "      \n",
        "  # Now that training is done print the final loss    \n",
        "  print(\"Final Loss (RMSE) on the training data: %0.3f\" % loss) \n",
        "  \n",
        "  # Generate a figure with the learning curve on the left and either a scatter\n",
        "  # plot or calibration plot (when more than 2 input features) on the right\n",
        "  plt.figure(figsize=(10, 5))\n",
        "  plt.subplot(1, 2, 1)\n",
        "  plt.title(\"Learning Curve (RMSE vs time)\")\n",
        "  plot_learning_curve(training_losses)\n",
        "  plt.subplot(1, 2, 2)\n",
        "  plt.tight_layout(pad=1.1, w_pad=3.0, h_pad=3.0)\n",
        "  plt.title(\"Calibration Plot\")\n",
        "  calibration_plot(predictions, labels)\n",
        "   \n",
        "  return linear_regressor"
      ],
      "execution_count": 0,
      "outputs": []
    },
    {
      "metadata": {
        "id": "exercise_linear_scaling_solution",
        "colab_type": "code",
        "colab": {}
      },
      "cell_type": "code",
      "source": [
        "# Perform log scaling\n",
        "def log_scale(series):\n",
        "  return series.apply(lambda x:math.log(x+1.0))\n",
        "\n",
        "# Linearly rescales to the range [0, 1]\n",
        "def linear_scale(series):\n",
        "  scale = 1.0 * (series.max() - series.min())\n",
        "  minimum = series.min()\n",
        "  return series.apply(lambda x: (x - minimum) / scale)"
      ],
      "execution_count": 0,
      "outputs": []
    },
    {
      "metadata": {
        "id": "bucketized_feature_text",
        "colab_type": "text"
      },
      "cell_type": "markdown",
      "source": [
        "###Using a Bucketized Numerical Feature\n",
        "\n",
        "Let's begin by looking at a scatter plot to understand the relationship between `compression-ratio` and `city-mpg`.  "
      ]
    },
    {
      "metadata": {
        "id": "compression_ratio_scatter_plot_code",
        "colab_type": "code",
        "colab": {
          "base_uri": "https://localhost:8080/",
          "height": 361
        },
        "outputId": "d108add8-fd3f-4ef6-efa9-41e2152f8b55"
      },
      "cell_type": "code",
      "source": [
        "scatter_plot(car_data[\"compression-ratio\"], car_data[\"city-mpg\"])"
      ],
      "execution_count": 17,
      "outputs": [
        {
          "output_type": "display_data",
          "data": {
            "image/png": "[encoded data removed]",
            "text/plain": [
              "<matplotlib.figure.Figure at 0x7fa42dc02860>"
            ]
          },
          "metadata": {
            "tags": []
          }
        }
      ]
    },
    {
      "metadata": {
        "id": "would_linear_model_work_text",
        "colab_type": "text"
      },
      "cell_type": "markdown",
      "source": [
        "**Would you expect a linear model to make a good prediction?**\n",
        "\n",
        "\n",
        "\n",
        "---\n",
        "\n",
        "No I would not expect a linear model to fit the data. There are to clusters of data that are separated by a big space. If we use a linear model just one you will predict in that space and that would not be the best prediction. In summary, you can use a linear model but it will not show the behavior of the data well.\n"
      ]
    },
    {
      "metadata": {
        "id": "would_linear_model_work_exercise",
        "colab_type": "text"
      },
      "cell_type": "markdown",
      "source": [
        "## Exercise: Train a Linear Regression Model (1 point)\n",
        "\n",
        "Tune the hyperparameters to train the best linear regression model you can to predict `city-mpg` from `compression-ratio`. **What do you observe?**"
      ]
    },
    {
      "metadata": {
        "id": "describe_observation_exercise",
        "colab_type": "code",
        "colab": {
          "base_uri": "https://localhost:8080/",
          "height": 54
        },
        "outputId": "ef60ade5-9f77-4928-f03c-4c29d40cc1f9"
      },
      "cell_type": "code",
      "source": [
        "\"\"\"\n",
        "Very briefly describe what you observe after training the model in this comment.\n",
        "(There is no need to run this code block but it also won't hurt if you do).\n",
        "\n",
        "I notice that there is a different behavior for the two ranges or \n",
        "clusters of the compression ratio. So we have the first cluster which is for \n",
        "lower compression ratio and the second cluster which is for higher compression\n",
        "ratio. We see a gap between them you will see that our linear model will try to\n",
        "fit the data. But as we observe in the calibration plot in the gap between \n",
        "the two clusters it will predict wrongly. There are 2 different behaviors and the \n",
        "linear model will not describe that behavior well.\n",
        "\n",
        "\"\"\""
      ],
      "execution_count": 18,
      "outputs": [
        {
          "output_type": "execute_result",
          "data": {
            "text/plain": [
              "\"\\nVery briefly describe what you observe after training the model in this comment.\\n(There is no need to run this code block but it also won't hurt if you do).\\n\\nI notice that there is a different behavior for the two ranges or \\nclusters of the compression ratio. So we have the first cluster which is for \\nlower compression ratio and the second cluster which is for higher compression\\nratio. We see a gap between them you will see that our linear model will try to\\nfit the data. But as we observe in the calibration plot in the gap between \\nthe two clusters it will predict wrongly. There are 2 different behaviors and the \\nlinear model will not describe that behavior well.\\n\\n\""
            ]
          },
          "metadata": {
            "tags": []
          },
          "execution_count": 18
        }
      ]
    },
    {
      "metadata": {
        "id": "TWLRKMl7MiC2",
        "colab_type": "code",
        "colab": {
          "base_uri": "https://localhost:8080/",
          "height": 586
        },
        "outputId": "19605253-8345-4158-c904-e5201c10d4b9"
      },
      "cell_type": "code",
      "source": [
        "NUMERICAL_FEATURES = [\"compression-ratio\"]\n",
        "CATEGORICAL_FEATURES = []\n",
        "LABEL = \"city-mpg\"\n",
        "\n",
        "# Create regression model using the define_regression_model procedure that we\n",
        "# defined earlier.\n",
        "linear_regressor = define_linear_regression_model(learning_rate = 0.0023)\n",
        "\n",
        "train_model(linear_regressor, training_examples[NUMERICAL_FEATURES], \n",
        "training_examples[LABEL],\n",
        " steps=5000, batch_size=50)\n"
      ],
      "execution_count": 131,
      "outputs": [
        {
          "output_type": "stream",
          "text": [
            "Training model...\n",
            "  Loss after period 00 : 18.684\n",
            "  Loss after period 01 : 11.934\n",
            "  Loss after period 02 : 7.457\n",
            "  Loss after period 03 : 6.495\n",
            "  Loss after period 04 : 6.171\n",
            "  Loss after period 05 : 6.142\n",
            "  Loss after period 06 : 6.133\n",
            "  Loss after period 07 : 6.119\n",
            "  Loss after period 08 : 6.100\n",
            "  Loss after period 09 : 6.080\n",
            "Final Loss (RMSE) on the training data: 6.080\n"
          ],
          "name": "stdout"
        },
        {
          "output_type": "execute_result",
          "data": {
            "text/plain": [
              "<tensorflow.python.estimator.canned.linear.LinearRegressor at 0x7fa3f024c0f0>"
            ]
          },
          "metadata": {
            "tags": []
          },
          "execution_count": 131
        },
        {
          "output_type": "display_data",
          "data": {
            "image/png": "[encoded data removed]",
            "text/plain": [
              "<matplotlib.figure.Figure at 0x7fa3e2ff7940>"
            ]
          },
          "metadata": {
            "tags": []
          }
        }
      ]
    },
    {
      "metadata": {
        "id": "exercise_use_bucketized_feature_text",
        "colab_type": "text"
      },
      "cell_type": "markdown",
      "source": [
        "## Exercise: Use a Bucketized Feature to Create a Better Model (2 points)\n",
        "\n",
        "As you might have observed when looking at the scatter plot, there are two different behaviors happening: One with a low compression ratio, and another with a high compression ratio. So really we want to learn a separate offset (the bias) for these two regions.\n",
        "\n",
        "A [Bucketized Column](https://www.tensorflow.org/api_docs/python/tf/contrib/layers/bucketized_column) for a numerical feature is designed exactly for this situation.  Below we revise `construct_feature_columns` to introduce a bucketized feature column. Observe that since the bucketized features are binary (1 if in the bucket and 0 otherwise), adding the bucketized features allows the model to learn an independent bias for each bucket. If you also want to learn a slope for the model, you also still want to include the `compression_ratio` as a numerical feature.\n",
        "\n",
        "Since the two bucketized features will have a value of 0 or 1, you might also want to do some linear scaling of compression ratio and then use 0.5 as your threshold.  If you were not able to get a linear scaling function to work in Lab 3, come to the office hours to get help writing this function if you decide that you'd like to use it in this lab.\n",
        "\n",
        "**In the below code box we've provided the functions that you are likely to want to change. You'll need to make the needed changes in these functions.  You are welcome to add/remove functions as it fits your needs.**"
      ]
    },
    {
      "metadata": {
        "id": "exercise_use_bucketized_feature_code",
        "colab_type": "code",
        "colab": {}
      },
      "cell_type": "code",
      "source": [
        "# Make any needed changes to prepare_features\n",
        "def prepare_features(dataframe):\n",
        "  \"\"\"Prepares the features for provided dataset.\n",
        "\n",
        "  Args:\n",
        "    dataframe: A Pandas DataFrame expected to contain data from the\n",
        "      desired data set.\n",
        "    feature: feature to be linear scaled\n",
        "  Returns:\n",
        "    A new DataFrame that contains the features to be used for the model.\n",
        "  \"\"\"\n",
        "  processed_features = dataframe.copy()\n",
        "  processed_features[\"compression-ratio\"] = linear_scale(processed_features[\"compression-ratio\"])\n",
        "  ## Add whatever processing you'd like to use here.   \n",
        "  ##for feature in feature_names:\n",
        "  ##  processed_features[feature] = linear_scale(processed_features[feature])\n",
        "  return processed_features\n",
        "\n",
        "# Generate the training examples with your revised version of prepare_features\n",
        "training_examples = prepare_features(car_data)\n",
        "\n",
        "# Below, we modify construct_feature_columns to use compression_ratio, a\n",
        "# bucketized feature for compression_ratio with two buckets using the provided\n",
        "# threshold. Make sure that the threshold choice is appropriate for whatever\n",
        "# feature processing you choose to use.\n",
        "\n",
        "threshold =  0.5\n",
        "\n",
        "def construct_feature_columns():\n",
        "  \"\"\"Construct the TensorFlow feature columns.\n",
        "\n",
        "  Returns:\n",
        "    A set of feature columns\n",
        "  \"\"\"\n",
        "  compression_ratio = tf.contrib.layers.real_valued_column(\"compression-ratio\")    \n",
        "  bucketized_compression_ratio = tf.contrib.layers.bucketized_column(\n",
        "      compression_ratio, [threshold])\n",
        "  \n",
        "  return set([compression_ratio, bucketized_compression_ratio])"
      ],
      "execution_count": 0,
      "outputs": []
    },
    {
      "metadata": {
        "id": "train_bucketized_model_text",
        "colab_type": "text"
      },
      "cell_type": "markdown",
      "source": [
        "### Now Train a Model\n",
        "\n",
        "Once you've completed the changes above you can train the model."
      ]
    },
    {
      "metadata": {
        "id": "train_bucketized_model_code",
        "colab_type": "code",
        "colab": {
          "base_uri": "https://localhost:8080/",
          "height": 569
        },
        "outputId": "99abcf87-acfb-4b86-fad8-b3dbf9b294b4"
      },
      "cell_type": "code",
      "source": [
        "# Putting an empty categorical feature to generate a calibration plot instead\n",
        "# of a scatter plot.\n",
        "NUMERICAL_FEATURES = [\"compression-ratio\"]\n",
        "CATEGORICAL_FEATURES = [\"\"]\n",
        "LABEL = \"city-mpg\"\n",
        "\n",
        "LEARNING_RATE = 0.01\n",
        "BATCH_SIZE = 50\n",
        "STEPS = 15000\n",
        "\n",
        "linear_regressor = define_linear_regression_model(learning_rate = LEARNING_RATE)\n",
        "linear_regressor = train_model(linear_regressor,\n",
        "                               training_examples[NUMERICAL_FEATURES],\n",
        "                               training_examples[LABEL],\n",
        "                               batch_size=BATCH_SIZE, steps=STEPS)"
      ],
      "execution_count": 21,
      "outputs": [
        {
          "output_type": "stream",
          "text": [
            "Training model...\n",
            "  Loss after period 00 : 6.021\n",
            "  Loss after period 01 : 5.864\n",
            "  Loss after period 02 : 5.790\n",
            "  Loss after period 03 : 5.754\n",
            "  Loss after period 04 : 5.740\n",
            "  Loss after period 05 : 5.736\n",
            "  Loss after period 06 : 5.729\n",
            "  Loss after period 07 : 5.726\n",
            "  Loss after period 08 : 5.728\n",
            "  Loss after period 09 : 5.726\n",
            "Final Loss (RMSE) on the training data: 5.726\n"
          ],
          "name": "stdout"
        },
        {
          "output_type": "display_data",
          "data": {
            "image/png": "[encoded data removed]",
            "text/plain": [
              "<matplotlib.figure.Figure at 0x7fa413b77780>"
            ]
          },
          "metadata": {
            "tags": []
          }
        }
      ]
    },
    {
      "metadata": {
        "id": "view_bucketized_model_weights_text",
        "colab_type": "text"
      },
      "cell_type": "markdown",
      "source": [
        "### Look at the Model Weights ###\n",
        "If you ever want to see the weights stored in a model you can use the `get_variable_names` method.  Below is a code box that prints the weights trained in this model."
      ]
    },
    {
      "metadata": {
        "id": "train_bucketized_model_weights_code",
        "colab_type": "code",
        "colab": {
          "base_uri": "https://localhost:8080/",
          "height": 85
        },
        "outputId": "592ec270-7241-4be3-a13e-8388366c2375"
      },
      "cell_type": "code",
      "source": [
        "w = linear_regressor.get_variable_value(\"linear/linear_model/compression-ratio/weights\")[0]\n",
        "w_low = linear_regressor.get_variable_value(\"linear/linear_model/compression-ratio_bucketized/weights\")[0]\n",
        "w_high = linear_regressor.get_variable_value(\"linear/linear_model/compression-ratio_bucketized/weights\")[1]\n",
        "b = linear_regressor.get_variable_value(\"linear/linear_model/bias_weights\")\n",
        "print(\"weight for compression ratio:\", w)\n",
        "print(\"weight for compression ratio small bucket:\", w_low)\n",
        "print(\"weight for compression ratio large bucket:\", w_high)\n",
        "print(\"weight for model bias:\", b)"
      ],
      "execution_count": 102,
      "outputs": [
        {
          "output_type": "stream",
          "text": [
            "weight for compression ratio: [50.861748]\n",
            "weight for compression ratio small bucket: [18.497728]\n",
            "weight for compression ratio large bucket: [-18.1749]\n",
            "weight for model bias: [0.32282463]\n"
          ],
          "name": "stdout"
        }
      ]
    },
    {
      "metadata": {
        "id": "exercise_making_predictions_text",
        "colab_type": "text"
      },
      "cell_type": "markdown",
      "source": [
        "## Exercise: Understand How to Make Predictions With This Model (1 point)##\n",
        "\n",
        "For the model you just trained there are 3 variables:\n",
        "* $x$ the `compression_ratio`\n",
        "* $x_{low}$ the value for the bucket corresponding to low compression ratio that is 1 if the compression ratio is less than the threshold and 0 otherwise.\n",
        "* $x_{high}$ the value for the bucket corresponding to high compression ratio that is 1 if the compression ratio is above the threshold and 0 otherwise.\n",
        "\n",
        "When training the model there are 4 weights learned\n",
        "\n",
        "*  $w$ the weight for `compression-ratio`\n",
        "*  $w_{low}$ the weight for the bucket corresponding to low compression ratio\n",
        "*  $w_{high}$ weight for the bucket corresponding to high compression ratio \n",
        "*  $b$ the bias\n",
        "\n",
        "So the prediction made by the trained model for an example will be: $w * x + w_{low} * x_{low} + w_{high} * x_{high} + b$.\n",
        "\n",
        "For this task, answer the following four questions.\n",
        "* A) What is the prediction of your model when the original compression ratio is 20?  Remember to apply any feature normalization you did to this input value.\n",
        "* B) What is the prediction of your model when the original compression ratio is 5?\n",
        "* C) Derive a formula (simplified as much as you can) for the predicted `city-mpg` when the compression ratio  $x$ is less than the threshold.\n",
        "* D) Derive a formula (simplified as much as you can) for the predicted `city-mpg` when the compression ratio $x$ is greater than the threshold.\n"
      ]
    },
    {
      "metadata": {
        "id": "nEX339DzaMiT",
        "colab_type": "code",
        "colab": {}
      },
      "cell_type": "code",
      "source": [
        "\"\"\"\n",
        "In order to answer the questions above I made a function that is calculating given \n",
        "the original compression ratio the prediction. Using the equation given above.\n",
        "\n",
        "A. For the original compression-ratio of 20 my model will predict 23.473093. This\n",
        "  taking into account the linear scaling of the data.\n",
        "\n",
        "B. For the original compression-ratio of 5 my model will predict 12.462834.as_integer_ratio\n",
        "\n",
        "C. \n",
        "    Step 1. y = w*x + w_low*x_low + w_high*x_high + b\n",
        "    Step 2. y = w*x + w_low*1 + w_high*0 + b -> This because low compression ratio that is 1 if the compression ratio is less than the threshold and 0 otherwise.\n",
        "    Step 3. y = w*x + w_low + b -> Let's say c = w_low+b\n",
        "    Step 4. y = w*x + c\n",
        "\n",
        "D. \n",
        "    Step 1. y = w*x + w_low*x_low + w_high*x_high + b\n",
        "    Step 2. y = w*x + w_low*0 + w_high*1 + b -> This because high compression ratio that is 1 if the compression ratio is above than the threshold and 0 otherwise.\n",
        "    Step 3. y = w*x + w_high + b -> Let's say c = w_high+b\n",
        "    Step 4. y = w*x + c\n",
        "\"\"\""
      ],
      "execution_count": 0,
      "outputs": []
    },
    {
      "metadata": {
        "id": "lut-rTq7oBny",
        "colab_type": "code",
        "colab": {}
      },
      "cell_type": "code",
      "source": [
        "\n",
        "def calculatePrediction(x):\n",
        "  old_compression = car_data[\"compression-ratio\"]\n",
        "  old_com_min = old_compression.min()\n",
        "  old_com_max = old_compression.max()\n",
        "  linear_conversion = ((x - old_com_min)/(old_com_max - old_com_min))\n",
        "  if(linear_conversion < threshold):\n",
        "    low_x = 1\n",
        "    high_x = 0\n",
        "  \n",
        "  else:\n",
        "    low_x = 0\n",
        "    high_x = 1\n",
        "  \n",
        "  prediction = w * linear_conversion + w_low * low_x + w_high * high_x + b\n",
        "  return prediction\n",
        "\n"
      ],
      "execution_count": 0,
      "outputs": []
    },
    {
      "metadata": {
        "id": "DyfEg59LZ4ut",
        "colab_type": "code",
        "colab": {
          "base_uri": "https://localhost:8080/",
          "height": 255
        },
        "outputId": "9e192649-ecad-41db-c9ce-23aeb9c5bfc5"
      },
      "cell_type": "code",
      "source": [
        "\n",
        "print(\"A. What is the prediction of your model when the original compression ratio is 20? Remember to apply any feature normalization you did to this input value. \" )\n",
        "print( calculatePrediction(20))\n",
        "\n",
        "print(\"B. What is the prediction of your model when the original compression ratio is 5? \" )\n",
        "print( calculatePrediction(5))\n",
        "\n",
        "print(\"C. Derive a formula (simplified as much as you can) for the predicted city-mpg when the compression ratio  𝑥  is less than the threshold.\")\n",
        "print(\"Step 1. y = w*x + w_low*x_low + w_high*x_high + b\")\n",
        "print(\"Step 2. y = w*x + w_low*1 + w_high*0 + b -> This because low compression ratio that is 1 if the compression ratio is less than the threshold and 0 otherwise.\")\n",
        "print(\"Step 3. y = w*x + w_low + b -> Let's say c = w_low+b\")\n",
        "print(\"Step 4. y = w*x + c\")\n",
        "\n",
        "print(\"C. Derive a formula (simplified as much as you can) for the predicted city-mpg when the compression ratio  𝑥  is greater than the threshold.\")\n",
        "print(\"Step 1. y = w*x + w_low*x_low + w_high*x_high + b\")\n",
        "print(\"Step 2. y = w*x + w_low*0 + w_high*1 + b -> This because high compression ratio that is 1 if the compression ratio is above than the threshold and 0 otherwise.\")\n",
        "print(\"Step 3. y = w*x + w_high + b -> Let's say c = w_high+b\")\n",
        "print(\"Step 4. y = w*x + c\")"
      ],
      "execution_count": 123,
      "outputs": [
        {
          "output_type": "stream",
          "text": [
            "A. What is the prediction of your model when the original compression ratio is 20? Remember to apply any feature normalization you did to this input value. \n",
            "[23.473093]\n",
            "B. What is the prediction of your model when the original compression ratio is 5? \n",
            "[12.462834]\n",
            "C. Derive a formula (simplified as much as you can) for the predicted city-mpg when the compression ratio  𝑥  is less than the threshold.\n",
            "Step 1. y = w*x + w_low*x_low + w_high*x_high + b\n",
            "Step 2. y = w*x + w_low*1 + w_high*0 + b -> This because low compression ratio that is 1 if the compression ratio is less than the threshold and 0 otherwise.\n",
            "Step 3. y = w*x + w_low + b -> Let's say c = w_low+b\n",
            "Step 4. y = w*x + c\n",
            "C. Derive a formula (simplified as much as you can) for the predicted city-mpg when the compression ratio  𝑥  is greater than the threshold.\n",
            "Step 1. y = w*x + w_low*x_low + w_high*x_high + b\n",
            "Step 2. y = w*x + w_low*0 + w_high*1 + b -> This because high compression ratio that is 1 if the compression ratio is above than the threshold and 0 otherwise.\n",
            "Step 3. y = w*x + w_high + b -> Let's say c = w_high+b\n",
            "Step 4. y = w*x + c\n"
          ],
          "name": "stdout"
        }
      ]
    },
    {
      "metadata": {
        "id": "exercise_draw_scatter_plot_text",
        "colab_type": "text"
      },
      "cell_type": "markdown",
      "source": [
        "## Exercise: Draw a Scatter Plot Showing the Predictions of Your Model (1 point)##\n",
        "\n",
        "Unlike the scatter plots we've seen before, with the bucketized feature you will have a different linear model in the region for each bucket.  Here you are going to draw the model you trained with two buckets for `compression-ratio`. You can just put direct code to do this.  There is no need to modify `scatter_plot` but rather just use that code to guide you here where you are going to draw one line segment from x_min to your threshold for the bucketized feature and a second line segment going from your threshold to x_max.  We've got you started."
      ]
    },
    {
      "metadata": {
        "id": "exercise_draw_scatter_plot_code_box",
        "colab_type": "code",
        "colab": {
          "base_uri": "https://localhost:8080/",
          "height": 361
        },
        "outputId": "77bf06fc-99bd-4f8c-f65b-5a6da2175ddd"
      },
      "cell_type": "code",
      "source": [
        "# Generate the scatter plot\n",
        "x = training_examples[\"compression-ratio\"]\n",
        "y = training_examples[\"city-mpg\"]\n",
        "plt.ylabel(\"city-mpg\")\n",
        "plt.xlabel(\"compression-ratio\")\n",
        "plt.scatter(x, y, color='black', label=\"\")\n",
        "\n",
        "x_min = x.min()\n",
        "x_max = x.max()\n",
        "\n",
        "y_min = w * x_min + w_low * 1 + w_high * 0 + b\n",
        "y_max = w * threshold + w_low * 1 + w_high * 0 + b\n",
        "plt.plot([x_min, threshold], [y_min,y_max],label='Lower Bucket')\n",
        "\n",
        "y_min_2 = w * threshold + w_low * 0 + w_high * 1 + b\n",
        "y_max_2 = w * x_max + w_low * 0 + w_high * 1 + b\n",
        "plt.plot([threshold,x_max], [y_min_2, y_max_2], label='Higher Bucket')\n",
        "plt.legend()\n",
        "plt.show()\n"
      ],
      "execution_count": 127,
      "outputs": [
        {
          "output_type": "display_data",
          "data": {
            "image/png": "[encoded data removed]",
            "text/plain": [
              "<matplotlib.figure.Figure at 0x7fa40cfca6d8>"
            ]
          },
          "metadata": {
            "tags": []
          }
        }
      ]
    }
  ]
}